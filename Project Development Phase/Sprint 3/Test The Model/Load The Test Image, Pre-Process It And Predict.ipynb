{
  "nbformat": 4,
  "nbformat_minor": 0,
  "metadata": {
    "colab": {
      "provenance": []
    },
    "kernelspec": {
      "name": "python3",
      "display_name": "Python 3"
    },
    "language_info": {
      "name": "python"
    }
  },
  "cells": [
    {
      "cell_type": "markdown",
      "source": [
        "Team Id: PNT2022TMID05416"
      ],
      "metadata": {
        "id": "id_R7E8PMRDO"
      }
    },
    {
      "cell_type": "markdown",
      "source": [
        "### **Project: Real-Time Communication system powered by AI for specially abled**"
      ],
      "metadata": {
        "id": "ZAoohtG8MKvW"
      }
    },
    {
      "cell_type": "code",
      "execution_count": null,
      "metadata": {
        "id": "oTQtvePhB9_H"
      },
      "outputs": [],
      "source": [
        "from keras.models import Sequential\n",
        "from keras.layers import Dense\n",
        "from keras.layers import Convolution2D\n",
        "from keras.layers import MaxPooling2D\n",
        "from keras.layers import Dropout\n",
        "from keras.layers import Flatten \n",
        "from tensorflow.keras.preprocessing.image import ImageDataGenerator"
      ]
    },
    {
      "cell_type": "code",
      "source": [
        "import numpy as np\n",
        "import matplotlib.pyplot as plt #to view graph in colab itself\n",
        "import IPython.display as display\n",
        "from PIL import Image\n",
        "import pathlib"
      ],
      "metadata": {
        "id": "m7y9sz-FCD6H"
      },
      "execution_count": null,
      "outputs": []
    },
    {
      "cell_type": "code",
      "source": [
        "import tensorflow as tf\n",
        "import os"
      ],
      "metadata": {
        "id": "gcGxl93bFLA_"
      },
      "execution_count": null,
      "outputs": []
    },
    {
      "cell_type": "code",
      "source": [
        "from google.colab import drive\n",
        "drive.mount('/content/drive')"
      ],
      "metadata": {
        "colab": {
          "base_uri": "https://localhost:8080/"
        },
        "id": "gGmcCeu5CJ0r",
        "outputId": "10084422-1074-46af-9444-3d77df32c639"
      },
      "execution_count": null,
      "outputs": [
        {
          "output_type": "stream",
          "name": "stdout",
          "text": [
            "Mounted at /content/drive\n"
          ]
        }
      ]
    },
    {
      "cell_type": "code",
      "source": [
        "!unzip '/content/drive/MyDrive/Classroom/conversation engine for deaf and dumb.zip'"
      ],
      "metadata": {
        "id": "xcUAI2cSCH7C"
      },
      "execution_count": null,
      "outputs": []
    },
    {
      "cell_type": "code",
      "source": [
        "train_datagen=ImageDataGenerator(rescale=1./255,shear_range=0.2,zoom_range=0.2,horizontal_flip=True)"
      ],
      "metadata": {
        "id": "AQCyEnjRElC6"
      },
      "execution_count": null,
      "outputs": []
    },
    {
      "cell_type": "code",
      "source": [
        "test_datagen=ImageDataGenerator(rescale=1./255)"
      ],
      "metadata": {
        "id": "Ea5cInPiEo1R"
      },
      "execution_count": null,
      "outputs": []
    },
    {
      "cell_type": "code",
      "source": [
        "x_train=train_datagen.flow_from_directory('/content/Dataset/training_set',target_size=(64,64),batch_size=200,\n",
        "                                          class_mode='categorical',color_mode=\"grayscale\")"
      ],
      "metadata": {
        "colab": {
          "base_uri": "https://localhost:8080/"
        },
        "id": "6HaOQJRlEc9E",
        "outputId": "b7e4c140-cb99-4587-9801-418bcaab2ba0"
      },
      "execution_count": null,
      "outputs": [
        {
          "output_type": "stream",
          "name": "stdout",
          "text": [
            "Found 15750 images belonging to 9 classes.\n"
          ]
        }
      ]
    },
    {
      "cell_type": "code",
      "source": [
        "x_test=test_datagen.flow_from_directory('/content/Dataset/test_set',target_size=(64,64),batch_size=200,\n",
        "                                          class_mode='categorical',color_mode=\"grayscale\")"
      ],
      "metadata": {
        "colab": {
          "base_uri": "https://localhost:8080/"
        },
        "id": "qYRrL_LHE6sj",
        "outputId": "487e7bdf-e359-4ac4-9c78-0835e28fa38b"
      },
      "execution_count": null,
      "outputs": [
        {
          "output_type": "stream",
          "name": "stdout",
          "text": [
            "Found 2250 images belonging to 9 classes.\n"
          ]
        }
      ]
    },
    {
      "cell_type": "markdown",
      "source": [
        "***Add Layers***"
      ],
      "metadata": {
        "id": "IimPtV1TL0C3"
      }
    },
    {
      "cell_type": "code",
      "source": [
        "model=Sequential()"
      ],
      "metadata": {
        "id": "xa4NuSd_FCfd"
      },
      "execution_count": null,
      "outputs": []
    },
    {
      "cell_type": "markdown",
      "source": [
        "**Add The Convolution Layer**"
      ],
      "metadata": {
        "id": "WFo1yDCWLwAo"
      }
    },
    {
      "cell_type": "code",
      "source": [
        "model.add(Convolution2D(32,(3,3),input_shape=(64,64,1),activation='relu'))"
      ],
      "metadata": {
        "id": "pZygx0GhFSHb"
      },
      "execution_count": null,
      "outputs": []
    },
    {
      "cell_type": "markdown",
      "source": [
        "**Add Pooling Layer**"
      ],
      "metadata": {
        "id": "mGgRr7JJLs5d"
      }
    },
    {
      "cell_type": "code",
      "source": [
        "model.add(MaxPooling2D(pool_size=(2,2)))"
      ],
      "metadata": {
        "id": "m_rSzaitFW7l"
      },
      "execution_count": null,
      "outputs": []
    },
    {
      "cell_type": "markdown",
      "source": [
        "**Add The Flatten Layer**"
      ],
      "metadata": {
        "id": "vfhO_4cCLpfz"
      }
    },
    {
      "cell_type": "code",
      "source": [
        "model.add(Flatten())"
      ],
      "metadata": {
        "id": "ZL9sm7RjFZeK"
      },
      "execution_count": null,
      "outputs": []
    },
    {
      "cell_type": "markdown",
      "source": [
        "**Adding The Dense Layers**"
      ],
      "metadata": {
        "id": "Dmza6iNRLlE1"
      }
    },
    {
      "cell_type": "code",
      "source": [
        "#1st hidden layer\n",
        "model.add(Dense(units=512,activation='relu'))\n",
        "#2nd hidden layer\n",
        "model.add(Dense(units=261,activation='relu'))"
      ],
      "metadata": {
        "id": "pS5Y3OYHFchw"
      },
      "execution_count": null,
      "outputs": []
    },
    {
      "cell_type": "code",
      "source": [
        "model.add(Dense(units=9,activation='softmax'))"
      ],
      "metadata": {
        "id": "P6fLdW7IFdKg"
      },
      "execution_count": null,
      "outputs": []
    },
    {
      "cell_type": "markdown",
      "source": [
        "**Compile The Model**"
      ],
      "metadata": {
        "id": "_xn8Z_YgLg1G"
      }
    },
    {
      "cell_type": "code",
      "source": [
        "model.compile(loss='categorical_crossentropy',optimizer='adam',metrics=['accuracy'])"
      ],
      "metadata": {
        "id": "MoVFBG7SFfe0"
      },
      "execution_count": null,
      "outputs": []
    },
    {
      "cell_type": "markdown",
      "source": [
        "**Fit The Model**"
      ],
      "metadata": {
        "id": "5fmHGV-0LeIk"
      }
    },
    {
      "cell_type": "code",
      "source": [
        "model.fit_generator(x_train,steps_per_epoch=len(x_train),epochs=10,validation_data=x_test,validation_steps=len(x_test))"
      ],
      "metadata": {
        "colab": {
          "base_uri": "https://localhost:8080/"
        },
        "id": "H9BAyUNVFkF3",
        "outputId": "7ec5db3b-e8a3-4a85-cb96-3f647d6f5b49"
      },
      "execution_count": null,
      "outputs": [
        {
          "output_type": "stream",
          "name": "stderr",
          "text": [
            "/usr/local/lib/python3.7/dist-packages/ipykernel_launcher.py:1: UserWarning: `Model.fit_generator` is deprecated and will be removed in a future version. Please use `Model.fit`, which supports generators.\n",
            "  \"\"\"Entry point for launching an IPython kernel.\n"
          ]
        },
        {
          "output_type": "stream",
          "name": "stdout",
          "text": [
            "Epoch 1/10\n",
            "79/79 [==============================] - 90s 1s/step - loss: 0.5081 - accuracy: 0.8389 - val_loss: 0.2443 - val_accuracy: 0.9564\n",
            "Epoch 2/10\n",
            "79/79 [==============================] - 83s 1s/step - loss: 0.0607 - accuracy: 0.9837 - val_loss: 0.2357 - val_accuracy: 0.9742\n",
            "Epoch 3/10\n",
            "79/79 [==============================] - 82s 1s/step - loss: 0.0232 - accuracy: 0.9937 - val_loss: 0.2744 - val_accuracy: 0.9671\n",
            "Epoch 4/10\n",
            "79/79 [==============================] - 93s 1s/step - loss: 0.0163 - accuracy: 0.9961 - val_loss: 0.3158 - val_accuracy: 0.9756\n",
            "Epoch 5/10\n",
            "79/79 [==============================] - 101s 1s/step - loss: 0.0095 - accuracy: 0.9978 - val_loss: 0.3130 - val_accuracy: 0.9778\n",
            "Epoch 6/10\n",
            "79/79 [==============================] - 104s 1s/step - loss: 0.0073 - accuracy: 0.9979 - val_loss: 0.3312 - val_accuracy: 0.9769\n",
            "Epoch 7/10\n",
            "79/79 [==============================] - 100s 1s/step - loss: 0.0084 - accuracy: 0.9976 - val_loss: 0.3252 - val_accuracy: 0.9769\n",
            "Epoch 8/10\n",
            "79/79 [==============================] - 100s 1s/step - loss: 0.0051 - accuracy: 0.9985 - val_loss: 0.3386 - val_accuracy: 0.9751\n",
            "Epoch 9/10\n",
            "79/79 [==============================] - 99s 1s/step - loss: 0.0050 - accuracy: 0.9987 - val_loss: 0.3241 - val_accuracy: 0.9764\n",
            "Epoch 10/10\n",
            "79/79 [==============================] - 99s 1s/step - loss: 0.0017 - accuracy: 0.9996 - val_loss: 0.3893 - val_accuracy: 0.9751\n"
          ]
        },
        {
          "output_type": "execute_result",
          "data": {
            "text/plain": [
              "<keras.callbacks.History at 0x7faea88e3f50>"
            ]
          },
          "metadata": {},
          "execution_count": 22
        }
      ]
    },
    {
      "cell_type": "markdown",
      "source": [
        "**Save The Model**"
      ],
      "metadata": {
        "id": "6kRSiN8eLV0-"
      }
    },
    {
      "cell_type": "code",
      "source": [
        "model.save('aslpng2.h5')"
      ],
      "metadata": {
        "id": "gC2YcdrlFkww"
      },
      "execution_count": null,
      "outputs": []
    },
    {
      "cell_type": "markdown",
      "source": [
        "**Import The Packages And Load The Saved Model**"
      ],
      "metadata": {
        "id": "RWi43XAkLQX8"
      }
    },
    {
      "cell_type": "code",
      "source": [
        "from tensorflow.keras.models import load_model\n",
        "import numpy as np\n",
        "import cv2\n",
        "from tensorflow.keras.preprocessing import image"
      ],
      "metadata": {
        "id": "yhTy-nNrFuIl"
      },
      "execution_count": null,
      "outputs": []
    },
    {
      "cell_type": "code",
      "source": [
        "model=load_model('aslpng2.h5')"
      ],
      "metadata": {
        "id": "-q0JjY5TFyaI"
      },
      "execution_count": null,
      "outputs": []
    },
    {
      "cell_type": "code",
      "source": [
        "img=image.load_img('/content/Dataset/test_set/C/15.png',target_size=(200,300))\n",
        "img"
      ],
      "metadata": {
        "colab": {
          "base_uri": "https://localhost:8080/",
          "height": 217
        },
        "id": "5Ji04DSRF1CM",
        "outputId": "c2b24da6-46ae-4913-bf1e-270e8c2988a7"
      },
      "execution_count": null,
      "outputs": [
        {
          "output_type": "execute_result",
          "data": {
            "text/plain": [
              "<PIL.Image.Image image mode=RGB size=300x200 at 0x7FAEA0D7AE90>"
            ],
            "image/png": "[encoded data removed]"
          },
          "metadata": {},
          "execution_count": 29
        }
      ]
    },
    {
      "cell_type": "markdown",
      "source": [
        "## **Load The Test Image, Pre-Process It And Predict**"
      ],
      "metadata": {
        "id": "AabOsj1cST69"
      }
    },
    {
      "cell_type": "code",
      "source": [
        "from skimage.transform import resize\n",
        "def detect(frame):\n",
        "    img=image.img_to_array(frame)\n",
        "    img = resize(img,(64,64,1))\n",
        "    img = np.expand_dims(img,axis=0)\n",
        "    pred=np.argmax(model.predict(img))\n",
        "    op=['A','B','C','D','E','F','G','H','I']\n",
        "    print(\"THE PREDICTED LETTER IS \",op[pred])\n"
      ],
      "metadata": {
        "id": "71voKML8RDMA"
      },
      "execution_count": 49,
      "outputs": []
    },
    {
      "cell_type": "code",
      "source": [
        "arr= image.img_to_array(img)"
      ],
      "metadata": {
        "id": "7BonEG9eOVio"
      },
      "execution_count": 50,
      "outputs": []
    },
    {
      "cell_type": "code",
      "source": [
        "frame=cv2.imread('/content/Dataset/test_set/C/15.png')\n",
        "data=detect(frame)\n",
        "from google.colab.patches import cv2_imshow\n",
        "cv2_imshow(frame)\n",
        "cv2.waitKey(0)\n",
        "cv2.destroyAllWindows()"
      ],
      "metadata": {
        "colab": {
          "base_uri": "https://localhost:8080/",
          "height": 116
        },
        "id": "J9QKGLZvOYVm",
        "outputId": "0f4114ac-54c8-4312-d80b-7c477e5de24a"
      },
      "execution_count": 51,
      "outputs": [
        {
          "output_type": "stream",
          "name": "stdout",
          "text": [
            "1/1 [==============================] - 0s 34ms/step\n",
            "THE PREDICTED LETTER IS  C\n"
          ]
        },
        {
          "output_type": "display_data",
          "data": {
            "text/plain": [
              "<PIL.Image.Image image mode=RGB size=64x64 at 0x7FAE92E011D0>"
            ],
            "image/png": "[encoded data removed]"
          },
          "metadata": {}
        }
      ]
    }
  ]
}