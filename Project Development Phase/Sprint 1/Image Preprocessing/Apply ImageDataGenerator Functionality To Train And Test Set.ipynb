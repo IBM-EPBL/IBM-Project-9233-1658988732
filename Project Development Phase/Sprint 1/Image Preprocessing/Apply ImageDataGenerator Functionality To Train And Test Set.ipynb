{
  "nbformat": 4,
  "nbformat_minor": 0,
  "metadata": {
    "colab": {
      "provenance": []
    },
    "kernelspec": {
      "name": "python3",
      "display_name": "Python 3"
    },
    "language_info": {
      "name": "python"
    }
  },
  "cells": [
    {
      "cell_type": "markdown",
      "source": [
        "**Image Preprocessing**"
      ],
      "metadata": {
        "id": "Kw7uYT3lS6mx"
      }
    },
    {
      "cell_type": "markdown",
      "source": [
        "**Apply ImageDataGenerator Functionality To Train And Test Set**"
      ],
      "metadata": {
        "id": "f20F_ZxCS_NV"
      }
    },
    {
      "cell_type": "code",
      "source": [
        "from tensorflow.keras.preprocessing.image import ImageDataGenerator"
      ],
      "metadata": {
        "id": "1QH-xXQ-TH6E"
      },
      "execution_count": null,
      "outputs": []
    },
    {
      "cell_type": "code",
      "source": [
        "# Training Datagen\n",
        "train_datagen = ImageDataGenerator(rescale=1/255,zoom_range=0.2,horizontal_flip=True,vertical_flip=False)\n",
        "# Testing Datagen\n",
        "test_datagen = ImageDataGenerator(rescale=1/255)"
      ],
      "metadata": {
        "id": "vgda6-oaTI3E"
      },
      "execution_count": null,
      "outputs": []
    },
    {
      "cell_type": "code",
      "source": [
        "import tensorflow as tf\n",
        "import os\n",
        "from tensorflow.keras.models import Sequential\n",
        "from tensorflow.keras.layers import Dense, Conv2D, Flatten, Dropout, MaxPooling2D\n",
        "from tensorflow.keras.preprocessing.image import ImageDataGenerator\n",
        "import numpy as np\n",
        "import matplotlib.pyplot as plt\n",
        "import IPython.display as display\n",
        "from PIL import Image\n",
        "import pathlib"
      ],
      "metadata": {
        "id": "Ypv6-zVYTRGk"
      },
      "execution_count": null,
      "outputs": []
    },
    {
      "cell_type": "markdown",
      "source": [
        "**Apply ImageDataGenerator Functionality To Train And Test set**"
      ],
      "metadata": {
        "id": "YHXKg7y3TVlK"
      }
    },
    {
      "cell_type": "code",
      "source": [
        "!unzip '/content/Dataset.zip'"
      ],
      "metadata": {
        "id": "STR9aAz7Ta3P"
      },
      "execution_count": null,
      "outputs": []
    },
    {
      "cell_type": "code",
      "source": [
        "from tensorflow.keras.preprocessing.image import ImageDataGenerator\n",
        "print(\"This dataset has been created and uploaded by IBM-TeamID-IBM-Project-9233-1658988732\")"
      ],
      "metadata": {
        "colab": {
          "base_uri": "https://localhost:8080/"
        },
        "id": "-3DSoR_FTx5z",
        "outputId": "945bd200-2a25-4fae-f9ed-a68551682b4e"
      },
      "execution_count": null,
      "outputs": [
        {
          "output_type": "stream",
          "name": "stdout",
          "text": [
            "This dataset has been created and uploaded by IBM-TeamID-IBM-Project-9233-1658988732\n"
          ]
        }
      ]
    },
    {
      "cell_type": "code",
      "source": [
        "train_datagen = ImageDataGenerator(rescale=1./255,zoom_range=0.2,horizontal_flip=True, vertical_flip=False)\n",
        "test_datagen= ImageDataGenerator(rescale=1./255)"
      ],
      "metadata": {
        "id": "8A48fpDoUBVh"
      },
      "execution_count": null,
      "outputs": []
    },
    {
      "cell_type": "code",
      "source": [
        "x_train = train_datagen.flow_from_directory('/content/Dataset/training_set',target_size=(64,64), batch_size=300,\n",
        "                                          class_mode='categorical', color_mode = \"grayscale\")"
      ],
      "metadata": {
        "colab": {
          "base_uri": "https://localhost:8080/"
        },
        "id": "Yj8ovMxqUbLK",
        "outputId": "7862eee9-1584-4bf2-ceeb-1e6a1b6c0dcf"
      },
      "execution_count": null,
      "outputs": [
        {
          "output_type": "stream",
          "name": "stdout",
          "text": [
            "Found 15750 images belonging to 9 classes.\n"
          ]
        }
      ]
    },
    {
      "cell_type": "code",
      "source": [
        "x_train.class_indices"
      ],
      "metadata": {
        "colab": {
          "base_uri": "https://localhost:8080/"
        },
        "id": "B83SjQxapQoR",
        "outputId": "64f5dbe0-f4b7-4122-88cc-133ec6a6c96f"
      },
      "execution_count": null,
      "outputs": [
        {
          "output_type": "execute_result",
          "data": {
            "text/plain": [
              "{'A': 0, 'B': 1, 'C': 2, 'D': 3, 'E': 4, 'F': 5, 'G': 6, 'H': 7, 'I': 8}"
            ]
          },
          "metadata": {},
          "execution_count": 12
        }
      ]
    },
    {
      "cell_type": "code",
      "source": [
        "x_test = test_datagen.flow_from_directory('/content/Dataset/test_set',target_size=(64,64), batch_size=300,\n",
        "                                          class_mode='categorical', color_mode = \"grayscale\")"
      ],
      "metadata": {
        "colab": {
          "base_uri": "https://localhost:8080/"
        },
        "id": "M9oqNGgOpKZx",
        "outputId": "aa1ffc3c-5716-4940-ea0c-c229a533ba95"
      },
      "execution_count": null,
      "outputs": [
        {
          "output_type": "stream",
          "name": "stdout",
          "text": [
            "Found 2250 images belonging to 9 classes.\n"
          ]
        }
      ]
    },
    {
      "cell_type": "code",
      "source": [
        "x_test.class_indices"
      ],
      "metadata": {
        "colab": {
          "base_uri": "https://localhost:8080/"
        },
        "id": "KPTCbGqkpRma",
        "outputId": "74216a48-5133-469e-98b5-a27235d63f28"
      },
      "execution_count": null,
      "outputs": [
        {
          "output_type": "execute_result",
          "data": {
            "text/plain": [
              "{'A': 0, 'B': 1, 'C': 2, 'D': 3, 'E': 4, 'F': 5, 'G': 6, 'H': 7, 'I': 8}"
            ]
          },
          "metadata": {},
          "execution_count": 15
        }
      ]
    }
  ]
}