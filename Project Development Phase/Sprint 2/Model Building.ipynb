{
  "nbformat": 4,
  "nbformat_minor": 0,
  "metadata": {
    "colab": {
      "provenance": [],
      "collapsed_sections": []
    },
    "kernelspec": {
      "name": "python3",
      "display_name": "Python 3"
    },
    "language_info": {
      "name": "python"
    }
  },
  "cells": [
    {
      "cell_type": "markdown",
      "source": [
        "***Model Building***"
      ],
      "metadata": {
        "id": "9z5e3qD0wLm1"
      }
    },
    {
      "cell_type": "code",
      "source": [
        "from google.colab import drive\n",
        "drive.mount('/content/drive')"
      ],
      "metadata": {
        "colab": {
          "base_uri": "https://localhost:8080/"
        },
        "id": "sAUbOK4D_7SG",
        "outputId": "9735eff2-3f58-4b28-bf90-c412851c9899"
      },
      "execution_count": 32,
      "outputs": [
        {
          "output_type": "stream",
          "name": "stdout",
          "text": [
            "Drive already mounted at /content/drive; to attempt to forcibly remount, call drive.mount(\"/content/drive\", force_remount=True).\n"
          ]
        }
      ]
    },
    {
      "cell_type": "code",
      "source": [
        "import numpy as np\n",
        "import matplotlib.pyplot as plt"
      ],
      "metadata": {
        "id": "LI2SVCPnHlnj"
      },
      "execution_count": 51,
      "outputs": []
    },
    {
      "cell_type": "code",
      "source": [
        "from tensorflow.keras.preprocessing.image import ImageDataGenerator"
      ],
      "metadata": {
        "id": "tV1-0cJtHnuN"
      },
      "execution_count": 34,
      "outputs": []
    },
    {
      "cell_type": "code",
      "source": [
        "# Training Datagen\n",
        "train_datagen = ImageDataGenerator(rescale=1/255,zoom_range=0.2,horizontal_flip=True,vertical_flip=False)\n",
        "# Testing Datagen\n",
        "test_datagen = ImageDataGenerator(rescale=1/255)"
      ],
      "metadata": {
        "id": "a-VL5hE8H0oN"
      },
      "execution_count": 35,
      "outputs": []
    },
    {
      "cell_type": "code",
      "source": [
        "# Training Dataset\n",
        "x_train=train_datagen.flow_from_directory(r'/content/drive/MyDrive/Classroom/training_set',target_size=(64,64), class_mode='categorical',batch_size=900)\n",
        "# Testing Dataset\n",
        "x_test=test_datagen.flow_from_directory(r'/content/drive/MyDrive/Classroom/test_set',target_size=(64,64), class_mode='categorical',batch_size=900)"
      ],
      "metadata": {
        "colab": {
          "base_uri": "https://localhost:8080/"
        },
        "id": "2I4pUnCkH2LI",
        "outputId": "ee44fc7d-d44a-4436-88f3-2268c149a39b"
      },
      "execution_count": 52,
      "outputs": [
        {
          "output_type": "stream",
          "name": "stdout",
          "text": [
            "Found 15750 images belonging to 9 classes.\n",
            "Found 2250 images belonging to 9 classes.\n"
          ]
        }
      ]
    },
    {
      "cell_type": "code",
      "source": [
        "# let img1 be an image with no features\n",
        "img1 = np.array([np.array([200, 200]), np.array([200, 200])])\n",
        "img2 = np.array([np.array([200, 200]), np.array([0, 0])])\n",
        "img3 = np.array([np.array([200, 0]), np.array([200, 0])])\n",
        "  \n",
        "kernel_horizontal = np.array([np.array([2, 2]), np.array([-2, -2])])\n",
        "print(kernel_horizontal, 'is a kernel for detecting horizontal edges')\n",
        "  \n",
        "kernel_vertical = np.array([np.array([2, -2]), np.array([2, -2])])\n",
        "print(kernel_vertical, 'is a kernel for detecting vertical edges')"
      ],
      "metadata": {
        "colab": {
          "base_uri": "https://localhost:8080/"
        },
        "id": "eXAVvs3yAaGJ",
        "outputId": "f860eac7-f63d-4025-f40c-debc9de80e2f"
      },
      "execution_count": 53,
      "outputs": [
        {
          "output_type": "stream",
          "name": "stdout",
          "text": [
            "[[ 2  2]\n",
            " [-2 -2]] is a kernel for detecting horizontal edges\n",
            "[[ 2 -2]\n",
            " [ 2 -2]] is a kernel for detecting vertical edges\n"
          ]
        }
      ]
    },
    {
      "cell_type": "code",
      "source": [
        "# We will apply the kernels on the images by\n",
        "# elementwise multiplication followed by summation\n",
        "def apply_kernel(img, kernel):\n",
        "    return np.sum(np.multiply(img, kernel))\n",
        "  \n",
        "# Visualizing img1\n",
        "plt.imshow(img1)\n",
        "plt.axis('off')\n",
        "plt.title('img1')\n",
        "plt.show()\n",
        "\n",
        "# Checking for horizontal and vertical features in image1\n",
        "print('Horizontal edge confidence score:', apply_kernel(img1, \n",
        "                                            kernel_horizontal))\n",
        "print('Vertical edge confidence score:', apply_kernel(img1, \n",
        "                                            kernel_vertical))"
      ],
      "metadata": {
        "colab": {
          "base_uri": "https://localhost:8080/",
          "height": 299
        },
        "id": "8fY9pznbAbPJ",
        "outputId": "c51cc8f5-ad3d-4fe2-f0bb-f09aaa8c8dfd"
      },
      "execution_count": 54,
      "outputs": [
        {
          "output_type": "display_data",
          "data": {
            "text/plain": [
              "<Figure size 432x288 with 1 Axes>"
            ],
            "image/png": "[encoded data removed]"
          },
          "metadata": {
            "needs_background": "light"
          }
        },
        {
          "output_type": "stream",
          "name": "stdout",
          "text": [
            "Horizontal edge confidence score: 0\n",
            "Vertical edge confidence score: 0\n"
          ]
        }
      ]
    },
    {
      "cell_type": "code",
      "source": [
        "# Visualizing img2\n",
        "plt.imshow(img2)\n",
        "plt.axis('off')\n",
        "plt.title('img2')\n",
        "plt.show()\n",
        "\n",
        "# Checking for horizontal and vertical features in image2\n",
        "print('Horizontal edge confidence score:', apply_kernel(img2, \n",
        "                                            kernel_horizontal))\n",
        "print('Vertical edge confidence score:', apply_kernel(img2, \n",
        "                                            kernel_vertical))"
      ],
      "metadata": {
        "colab": {
          "base_uri": "https://localhost:8080/",
          "height": 299
        },
        "id": "7B3NF42cAmuX",
        "outputId": "ff942077-2f38-4627-e57b-9ea7b0bf83d2"
      },
      "execution_count": 55,
      "outputs": [
        {
          "output_type": "display_data",
          "data": {
            "text/plain": [
              "<Figure size 432x288 with 1 Axes>"
            ],
            "image/png": "[encoded data removed]"
          },
          "metadata": {
            "needs_background": "light"
          }
        },
        {
          "output_type": "stream",
          "name": "stdout",
          "text": [
            "Horizontal edge confidence score: 800\n",
            "Vertical edge confidence score: 0\n"
          ]
        }
      ]
    },
    {
      "cell_type": "code",
      "source": [
        "# Visualizing img3\n",
        "plt.imshow(img3)\n",
        "plt.axis('off')\n",
        "plt.title('img3')\n",
        "plt.show()\n",
        "  \n",
        "# Checking for horizontal and vertical features in image3\n",
        "print('Horizontal edge confidence score:', apply_kernel(img3, \n",
        "                                            kernel_horizontal))\n",
        "print('Vertical edge confidence score:', apply_kernel(img3, \n",
        "                                            kernel_vertical))"
      ],
      "metadata": {
        "colab": {
          "base_uri": "https://localhost:8080/",
          "height": 299
        },
        "id": "1ylLrD5DAsZB",
        "outputId": "606f4bc1-fb20-4f49-88b7-3ba45b6436ea"
      },
      "execution_count": 56,
      "outputs": [
        {
          "output_type": "display_data",
          "data": {
            "text/plain": [
              "<Figure size 432x288 with 1 Axes>"
            ],
            "image/png": "[encoded data removed]"
          },
          "metadata": {
            "needs_background": "light"
          }
        },
        {
          "output_type": "stream",
          "name": "stdout",
          "text": [
            "Horizontal edge confidence score: 0\n",
            "Vertical edge confidence score: 800\n"
          ]
        }
      ]
    },
    {
      "cell_type": "code",
      "source": [
        "print(\"Len x-train : \", len(x_train))\n",
        "print(\"Len x-test : \", len(x_test))"
      ],
      "metadata": {
        "colab": {
          "base_uri": "https://localhost:8080/"
        },
        "id": "kXI1qZfbAwAB",
        "outputId": "199daf3f-2d36-4288-f267-76b5c9df9837"
      },
      "execution_count": 57,
      "outputs": [
        {
          "output_type": "stream",
          "name": "stdout",
          "text": [
            "Len x-train :  18\n",
            "Len x-test :  3\n"
          ]
        }
      ]
    },
    {
      "cell_type": "code",
      "source": [
        "# The Class Indices in Training Dataset\n",
        "x_train.class_indices"
      ],
      "metadata": {
        "colab": {
          "base_uri": "https://localhost:8080/"
        },
        "id": "WDzDXjuyAynN",
        "outputId": "9737fcee-4bb0-4235-b703-ea78f1204b49"
      },
      "execution_count": 58,
      "outputs": [
        {
          "output_type": "execute_result",
          "data": {
            "text/plain": [
              "{'A': 0, 'B': 1, 'C': 2, 'D': 3, 'E': 4, 'F': 5, 'G': 6, 'H': 7, 'I': 8}"
            ]
          },
          "metadata": {},
          "execution_count": 58
        }
      ]
    },
    {
      "cell_type": "markdown",
      "source": [
        "**Model Creation**"
      ],
      "metadata": {
        "id": "fuqQ3jivA0qd"
      }
    },
    {
      "cell_type": "markdown",
      "source": [
        "**Import The Required Model Building Libraries**"
      ],
      "metadata": {
        "id": "zc2vs2C0SUyn"
      }
    },
    {
      "cell_type": "code",
      "source": [
        "# Importing Libraries\n",
        "from tensorflow.keras.models import Sequential\n",
        "from tensorflow.keras.layers import Convolution2D\n",
        "from tensorflow.keras.layers import MaxPooling2D\n",
        "from tensorflow.keras.layers import Flatten\n",
        "from tensorflow.keras.layers import Dense\n",
        "from tensorflow.keras.layers import Dropout"
      ],
      "metadata": {
        "id": "RKD1A_BeA7dP"
      },
      "execution_count": 59,
      "outputs": []
    },
    {
      "cell_type": "markdown",
      "source": [
        "***Initialize The Model***"
      ],
      "metadata": {
        "id": "__hssuWBSZox"
      }
    },
    {
      "cell_type": "code",
      "source": [
        "model=Sequential()"
      ],
      "metadata": {
        "id": "NUadLaL-A-VD"
      },
      "execution_count": 60,
      "outputs": []
    },
    {
      "cell_type": "markdown",
      "source": [
        "***Add The Convolution Layer***"
      ],
      "metadata": {
        "id": "JubSmPFaShQI"
      }
    },
    {
      "cell_type": "code",
      "source": [
        "# Adding Layers\n",
        "model.add(Convolution2D(32,(3,3),activation='relu',input_shape=(64,64,3)))"
      ],
      "metadata": {
        "id": "r5LmweSLBFKP"
      },
      "execution_count": 61,
      "outputs": []
    },
    {
      "cell_type": "markdown",
      "source": [
        "***Add The Pooling Layer***"
      ],
      "metadata": {
        "id": "tkZkMIJeS8h9"
      }
    },
    {
      "cell_type": "code",
      "source": [
        "model.add(MaxPooling2D(pool_size=(2,2)))"
      ],
      "metadata": {
        "id": "3XvgCw5QS-XO"
      },
      "execution_count": 62,
      "outputs": []
    },
    {
      "cell_type": "markdown",
      "source": [
        "***Add The Flatten Layer***"
      ],
      "metadata": {
        "id": "4eQRuvIpTeNG"
      }
    },
    {
      "cell_type": "code",
      "source": [
        "model.add(Flatten())"
      ],
      "metadata": {
        "id": "6TcRcCyITg5z"
      },
      "execution_count": 63,
      "outputs": []
    },
    {
      "cell_type": "markdown",
      "source": [
        "***Adding The Dense Layers***"
      ],
      "metadata": {
        "id": "klOCcwFUT32r"
      }
    },
    {
      "cell_type": "code",
      "source": [
        "model.add(Dense(units=512,activation='relu'))\n",
        "model.add(Dense(units=9,activation='softmax'))"
      ],
      "metadata": {
        "id": "9LsWO64OT6s_"
      },
      "execution_count": 64,
      "outputs": []
    },
    {
      "cell_type": "markdown",
      "source": [
        "***Compile The Model***"
      ],
      "metadata": {
        "id": "nyxxNUTnUdbN"
      }
    },
    {
      "cell_type": "code",
      "source": [
        "model.compile(loss='categorical_crossentropy',optimizer='adam',metrics=['accuracy'])"
      ],
      "metadata": {
        "id": "zpcegHM9UfJV"
      },
      "execution_count": 65,
      "outputs": []
    },
    {
      "cell_type": "markdown",
      "source": [
        "***Fit The Model***"
      ],
      "metadata": {
        "id": "pCb4mLliU_VS"
      }
    },
    {
      "cell_type": "code",
      "source": [
        "model.fit(x_train,steps_per_epoch=len(x_train),epochs=10,validation_data=x_test,validation_steps=len(x_test))"
      ],
      "metadata": {
        "colab": {
          "base_uri": "https://localhost:8080/"
        },
        "id": "oR4yL4ieVCWK",
        "outputId": "669729f2-1791-48a1-bb2d-8df0d952606d"
      },
      "execution_count": 68,
      "outputs": [
        {
          "output_type": "stream",
          "name": "stdout",
          "text": [
            "Epoch 1/10\n",
            "18/18 [==============================] - 106s 6s/step - loss: 0.1193 - accuracy: 0.9691 - val_loss: 0.1561 - val_accuracy: 0.9551\n",
            "Epoch 2/10\n",
            "18/18 [==============================] - 102s 6s/step - loss: 0.0668 - accuracy: 0.9829 - val_loss: 0.1026 - val_accuracy: 0.9698\n",
            "Epoch 3/10\n",
            "18/18 [==============================] - 103s 6s/step - loss: 0.0410 - accuracy: 0.9907 - val_loss: 0.0922 - val_accuracy: 0.9778\n",
            "Epoch 4/10\n",
            "18/18 [==============================] - 96s 5s/step - loss: 0.0273 - accuracy: 0.9945 - val_loss: 0.0968 - val_accuracy: 0.9782\n",
            "Epoch 5/10\n",
            "18/18 [==============================] - 97s 5s/step - loss: 0.0185 - accuracy: 0.9973 - val_loss: 0.0972 - val_accuracy: 0.9796\n",
            "Epoch 6/10\n",
            "18/18 [==============================] - 99s 5s/step - loss: 0.0145 - accuracy: 0.9968 - val_loss: 0.0902 - val_accuracy: 0.9800\n",
            "Epoch 7/10\n",
            "18/18 [==============================] - 106s 6s/step - loss: 0.0115 - accuracy: 0.9980 - val_loss: 0.1066 - val_accuracy: 0.9787\n",
            "Epoch 8/10\n",
            "18/18 [==============================] - 95s 5s/step - loss: 0.0080 - accuracy: 0.9988 - val_loss: 0.1231 - val_accuracy: 0.9778\n",
            "Epoch 9/10\n",
            "18/18 [==============================] - 100s 5s/step - loss: 0.0066 - accuracy: 0.9992 - val_loss: 0.1357 - val_accuracy: 0.9782\n",
            "Epoch 10/10\n",
            "18/18 [==============================] - 96s 5s/step - loss: 0.0042 - accuracy: 0.9998 - val_loss: 0.1352 - val_accuracy: 0.9778\n"
          ]
        },
        {
          "output_type": "execute_result",
          "data": {
            "text/plain": [
              "<keras.callbacks.History at 0x7f9a20ee3e50>"
            ]
          },
          "metadata": {},
          "execution_count": 68
        }
      ]
    },
    {
      "cell_type": "markdown",
      "source": [
        "***Save The Model***"
      ],
      "metadata": {
        "id": "lTia4PcpVxE5"
      }
    },
    {
      "cell_type": "code",
      "source": [
        "model.save('aslpng1.h5')"
      ],
      "metadata": {
        "id": "yNOFQwaOV04F"
      },
      "execution_count": 69,
      "outputs": []
    }
  ]
}